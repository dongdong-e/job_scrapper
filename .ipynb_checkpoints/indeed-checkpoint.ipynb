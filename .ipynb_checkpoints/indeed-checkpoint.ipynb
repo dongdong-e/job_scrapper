{
 "cells": [
  {
   "cell_type": "code",
   "execution_count": 101,
   "metadata": {},
   "outputs": [],
   "source": [
    "import requests\n",
    "from bs4 import BeautifulSoup\n",
    "\n",
    "LIMIT = 50\n",
    "URL = f\"https://www.indeed.com/jobs?q=python&limit={LIMIT}\"\n",
    "\n",
    "def extract_indeed_pages():\n",
    "    result = requests.get(URL)\n",
    "    soup = BeautifulSoup(result.text, \"html.parser\")\n",
    "\n",
    "    # pagination = indeed_soup.find_all(\"span\", {\"class\": \"pn\"})\n",
    "    pagination = soup.find(\"div\", {\"class\": \"pagination\"})\n",
    "    links = pagination.find_all(\"a\")\n",
    "\n",
    "    pages = []\n",
    "\n",
    "    for link in links[:-1]:\n",
    "        pages.append(int(link.string))\n",
    "\n",
    "    max_page = pages[-1]\n",
    "    \n",
    "    return max_page\n",
    "\n",
    "def extract_job(html):\n",
    "    title = html.find(\"div\", {\"class\":\"title\"}).find(\"a\")[\"title\"]\n",
    "    company = html.find(\"span\", {\"class\": \"company\"})\n",
    "    if company:\n",
    "        company_anchor = company.find(\"a\")\n",
    "        if company_anchor is not None:\n",
    "            company = str(company_anchor.string)\n",
    "        else:\n",
    "            company = str(company.string)\n",
    "        company = company.strip()\n",
    "    else:\n",
    "        company = None\n",
    "    location = html.find(\"div\", {\"class\":\"recJobLoc\"})[\"data-rc-loc\"]\n",
    "    job_id = html[\"data-jk\"]\n",
    "    return {\"title\": title,\n",
    "           \"company\": company,\n",
    "           \"location\": location,\n",
    "           \"link\": f\"https://www.indeed.com/viewjob?jk={job_id}\"}\n",
    "\n",
    "\n",
    "def extract_jobs(last_page):\n",
    "    jobs = []\n",
    "    for page in range(last_page):\n",
    "        print(f\"Scrapping page {page}\")\n",
    "        result = requests.get(f\"{URL}&start={page*LIMIT}\")\n",
    "        soup = BeautifulSoup(result.text, \"html.parser\")\n",
    "        results = soup.find_all(\"div\", {\"class\":\"jobsearch-SerpJobCard\"})\n",
    "        for result in results:\n",
    "            job = extract_job(result)\n",
    "            jobs.append(job)\n",
    "    return jobs\n",
    "\n",
    "def get_jobs():\n",
    "    last_page = extract_indeed_pages()\n",
    "    jobs = extract_jobs(last_page)\n",
    "    return jobs"
   ]
  },
  {
   "cell_type": "code",
   "execution_count": null,
   "metadata": {},
   "outputs": [],
   "source": []
  }
 ],
 "metadata": {
  "kernelspec": {
   "display_name": "Python 3",
   "language": "python",
   "name": "python3"
  },
  "language_info": {
   "codemirror_mode": {
    "name": "ipython",
    "version": 3
   },
   "file_extension": ".py",
   "mimetype": "text/x-python",
   "name": "python",
   "nbconvert_exporter": "python",
   "pygments_lexer": "ipython3",
   "version": "3.7.1"
  }
 },
 "nbformat": 4,
 "nbformat_minor": 2
}
