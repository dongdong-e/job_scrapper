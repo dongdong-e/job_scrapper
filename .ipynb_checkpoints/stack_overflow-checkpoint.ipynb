{
 "cells": [
  {
   "cell_type": "code",
   "execution_count": 27,
   "metadata": {},
   "outputs": [],
   "source": [
    "import requests\n",
    "from bs4 import BeautifulSoup\n",
    "\n",
    "URL = f\"https://stackoverflow.com/jobs?q=python&sort=i\""
   ]
  },
  {
   "cell_type": "code",
   "execution_count": 33,
   "metadata": {},
   "outputs": [],
   "source": [
    "def extract_stack_overflow_pages():\n",
    "    result = requests.get(URL)\n",
    "    soup = BeautifulSoup(result.text, \"html.parser\")\n",
    "    pages = soup.find(\"div\", {\"class\":\"pagination\"}).find_all(\"a\")\n",
    "    last_page = pages[-2].get_text(strip=True)\n",
    "    return int(last_page)\n",
    "\n",
    "def extract_job(html):\n",
    "    title = html.find(\"div\", {\"class\":\"-title\"}).find(\"h2\").find(\"a\")[\"title\"]\n",
    "    company, location = html.find(\"div\", {\"class\":\"-company\"}).find_all(\"span\", recursive=False)\n",
    "    company = company.get_text(strip=True)\n",
    "    location = location.get_text(strip=True).strip(\"-\").strip(\" \\r\").strip(\"\\n\")\n",
    "    job_id = html['data-jobid']\n",
    "    return {'title': title,\n",
    "           'company': company,\n",
    "           'loaction': location,\n",
    "           'apply_link': f'https://stackoverflow.com/jobs/{job_id}'}\n",
    "\n",
    "def extract_jobs(last_page):\n",
    "    jobs = []\n",
    "    for page in range(last_page):\n",
    "        result = requests.get(f\"{URL}&pg={page + 1}\")\n",
    "        soup = BeautifulSoup(result.text, \"html.parser\")\n",
    "        results = soup.find_all(\"div\", {\"class\":\"-job\"})\n",
    "        for result in results:\n",
    "            job = extract_job(result)\n",
    "            jobs.append(job)\n",
    "    return jobs\n",
    "\n",
    "def get_jobs():\n",
    "    last_page = extract_stack_overflow_pages()\n",
    "    jobs = extract_jobs(last_page)\n",
    "    return jobs"
   ]
  }
 ],
 "metadata": {
  "kernelspec": {
   "display_name": "Python 3",
   "language": "python",
   "name": "python3"
  },
  "language_info": {
   "codemirror_mode": {
    "name": "ipython",
    "version": 3
   },
   "file_extension": ".py",
   "mimetype": "text/x-python",
   "name": "python",
   "nbconvert_exporter": "python",
   "pygments_lexer": "ipython3",
   "version": "3.7.1"
  }
 },
 "nbformat": 4,
 "nbformat_minor": 2
}
