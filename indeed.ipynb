{
 "cells": [
  {
   "cell_type": "code",
   "execution_count": 81,
   "metadata": {},
   "outputs": [],
   "source": [
    "import requests\n",
    "from bs4 import BeautifulSoup\n",
    "\n",
    "LIMIT = 50\n",
    "URL = f\"https://www.indeed.com/jobs?q=python&limit={LIMIT}\"\n",
    "\n",
    "def extract_indeed_pages():\n",
    "    result = requests.get(URL)\n",
    "    soup = BeautifulSoup(result.text, \"html.parser\")\n",
    "\n",
    "    # pagination = indeed_soup.find_all(\"span\", {\"class\": \"pn\"})\n",
    "    pagination = soup.find(\"div\", {\"class\": \"pagination\"})\n",
    "    links = pagination.find_all(\"a\")\n",
    "\n",
    "    pages = []\n",
    "\n",
    "    for link in links[:-1]:\n",
    "        pages.append(int(link.string))\n",
    "\n",
    "    max_page = pages[-1]\n",
    "    \n",
    "    return max_page\n",
    "\n",
    "def extract_indeed_jobs(last_page):\n",
    "    jobs = []\n",
    "    for page in range(last_page):\n",
    "        result = requests.get(f\"{URL}&start={page*LIMIT}\")\n",
    "        soup = BeautifulSoup(result.text, \"html.parser\")\n",
    "\n",
    "    return jobs"
   ]
  },
  {
   "cell_type": "code",
   "execution_count": 80,
   "metadata": {},
   "outputs": [
    {
     "name": "stdout",
     "output_type": "stream",
     "text": [
      "200\n",
      "200\n",
      "200\n",
      "200\n",
      "200\n",
      "200\n",
      "200\n",
      "200\n",
      "200\n",
      "200\n",
      "200\n",
      "200\n",
      "200\n",
      "200\n",
      "200\n",
      "200\n",
      "200\n",
      "200\n",
      "200\n",
      "200\n"
     ]
    }
   ],
   "source": [
    "last_indeed_page = extract_indeed_pages()\n",
    "extract_indeed_jobs(last_indeed_page)"
   ]
  }
 ],
 "metadata": {
  "kernelspec": {
   "display_name": "Python 3",
   "language": "python",
   "name": "python3"
  },
  "language_info": {
   "codemirror_mode": {
    "name": "ipython",
    "version": 3
   },
   "file_extension": ".py",
   "mimetype": "text/x-python",
   "name": "python",
   "nbconvert_exporter": "python",
   "pygments_lexer": "ipython3",
   "version": "3.7.1"
  }
 },
 "nbformat": 4,
 "nbformat_minor": 2
}
